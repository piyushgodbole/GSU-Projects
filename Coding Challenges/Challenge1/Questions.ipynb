{
 "cells": [
  {
   "cell_type": "markdown",
   "metadata": {
    "colab_type": "text",
    "id": "x_BkOtqBIKQz"
   },
   "source": [
    "# Data Science Challenge"
   ]
  },
  {
   "cell_type": "code",
   "execution_count": 44,
   "metadata": {
    "colab": {},
    "colab_type": "code",
    "id": "U_VthdACIKQ6"
   },
   "outputs": [],
   "source": [
    "# To install packages that are not installed by default, uncomment the last two lines \n",
    "# of this cell and replace <package list> with a list of necessary packages.\n",
    "# This will ensure the notebook has all the dependencies and works everywhere.\n",
    "\n",
    "import sys\n",
    "!{sys.executable} -m pip install --upgrade --quiet seaborn"
   ]
  },
  {
   "cell_type": "code",
   "execution_count": 1,
   "metadata": {
    "colab": {},
    "colab_type": "code",
    "id": "VzGFUCCVIKRL"
   },
   "outputs": [],
   "source": [
    "#Libraries\n",
    "import pandas as pd\n",
    "import numpy as np\n",
    "pd.set_option(\"display.max_columns\", 101)"
   ]
  },
  {
   "cell_type": "markdown",
   "metadata": {
    "colab_type": "text",
    "id": "TZ23KNY8IKRT"
   },
   "source": [
    "## Data Description"
   ]
  },
  {
   "cell_type": "markdown",
   "metadata": {
    "colab_type": "text",
    "id": "jWSkqquEIKRW"
   },
   "source": [
    "Column | Description\n",
    ":---|:---\n",
    "`id` | The unique ID assigned to every hotel.\n",
    "`region` | The region in which the hotel is located..\n",
    "`latitude` | The latitude of the hotel.\n",
    "`longitude` | The longitude of the hotel.\n",
    "`accommodation_type` | The type of accommodation offered by the hotel. For example: Private room, Entire house/apt, etc.\n",
    "`cost` | The cost of booking the hotel for one night. (in \\$\\$)\n",
    "`minimum_nights` | The minimum number of nights stay required.\n",
    "`number_of_reviews` | The number of reviews accumulated by the hotel.\n",
    "`reviews_per_month` | The average number of reviews received by the hotel per month.\n",
    "`owner_id` | The unique ID assigned to every owner. An owner can own multiple hotels.\n",
    "`owned_hotels` | The number of hotels owned by the owner.\n",
    "`yearly_availability` | It indicates if the hotel accepts bookings around the year. Values are 0 (not available for 365 days in a year) and 1 (available for 365 days in a year)."
   ]
  },
  {
   "cell_type": "markdown",
   "metadata": {
    "colab_type": "text",
    "id": "BWQqx7cSIKRX"
   },
   "source": [
    "## Data Wrangling & Visualization"
   ]
  },
  {
   "cell_type": "code",
   "execution_count": 33,
   "metadata": {
    "colab": {},
    "colab_type": "code",
    "id": "SsjL7tf7IKRc"
   },
   "outputs": [],
   "source": [
    "# Dataset is already loaded below\n",
    "data = pd.read_csv(\"train.csv\")\n",
    "label = data['yearly_availability']\n",
    "test_data = pd.read_csv(\"test.csv\")\n",
    "data.drop(columns=['yearly_availability'], inplace=True)"
   ]
  },
  {
   "cell_type": "code",
   "execution_count": 34,
   "metadata": {
    "colab": {},
    "colab_type": "code",
    "id": "kzuHtZEkIKRh",
    "outputId": "9d14832c-2eda-48eb-df41-548113a94a73"
   },
   "outputs": [
    {
     "data": {
      "text/html": [
       "<div>\n",
       "<style scoped>\n",
       "    .dataframe tbody tr th:only-of-type {\n",
       "        vertical-align: middle;\n",
       "    }\n",
       "\n",
       "    .dataframe tbody tr th {\n",
       "        vertical-align: top;\n",
       "    }\n",
       "\n",
       "    .dataframe thead th {\n",
       "        text-align: right;\n",
       "    }\n",
       "</style>\n",
       "<table border=\"1\" class=\"dataframe\">\n",
       "  <thead>\n",
       "    <tr style=\"text-align: right;\">\n",
       "      <th></th>\n",
       "      <th>id</th>\n",
       "      <th>region</th>\n",
       "      <th>latitude</th>\n",
       "      <th>longitude</th>\n",
       "      <th>accommodation_type</th>\n",
       "      <th>cost</th>\n",
       "      <th>minimum_nights</th>\n",
       "      <th>number_of_reviews</th>\n",
       "      <th>reviews_per_month</th>\n",
       "      <th>owner_id</th>\n",
       "      <th>owned_hotels</th>\n",
       "    </tr>\n",
       "  </thead>\n",
       "  <tbody>\n",
       "    <tr>\n",
       "      <th>0</th>\n",
       "      <td>13232</td>\n",
       "      <td>Manhattan</td>\n",
       "      <td>40.71854</td>\n",
       "      <td>-74.00439</td>\n",
       "      <td>Entire home/apt</td>\n",
       "      <td>170</td>\n",
       "      <td>5</td>\n",
       "      <td>7</td>\n",
       "      <td>0.56</td>\n",
       "      <td>929983</td>\n",
       "      <td>1</td>\n",
       "    </tr>\n",
       "    <tr>\n",
       "      <th>1</th>\n",
       "      <td>246</td>\n",
       "      <td>Brooklyn</td>\n",
       "      <td>40.64446</td>\n",
       "      <td>-73.95030</td>\n",
       "      <td>Entire home/apt</td>\n",
       "      <td>65</td>\n",
       "      <td>3</td>\n",
       "      <td>238</td>\n",
       "      <td>2.30</td>\n",
       "      <td>281764</td>\n",
       "      <td>1</td>\n",
       "    </tr>\n",
       "    <tr>\n",
       "      <th>2</th>\n",
       "      <td>19091</td>\n",
       "      <td>Queens</td>\n",
       "      <td>40.78573</td>\n",
       "      <td>-73.81062</td>\n",
       "      <td>Private room</td>\n",
       "      <td>85</td>\n",
       "      <td>1</td>\n",
       "      <td>0</td>\n",
       "      <td>NaN</td>\n",
       "      <td>19923341</td>\n",
       "      <td>1</td>\n",
       "    </tr>\n",
       "    <tr>\n",
       "      <th>3</th>\n",
       "      <td>34305</td>\n",
       "      <td>Manhattan</td>\n",
       "      <td>40.73863</td>\n",
       "      <td>-73.98002</td>\n",
       "      <td>Private room</td>\n",
       "      <td>210</td>\n",
       "      <td>30</td>\n",
       "      <td>0</td>\n",
       "      <td>NaN</td>\n",
       "      <td>200380610</td>\n",
       "      <td>65</td>\n",
       "    </tr>\n",
       "    <tr>\n",
       "      <th>4</th>\n",
       "      <td>444</td>\n",
       "      <td>Manhattan</td>\n",
       "      <td>40.82426</td>\n",
       "      <td>-73.94630</td>\n",
       "      <td>Shared room</td>\n",
       "      <td>75</td>\n",
       "      <td>3</td>\n",
       "      <td>38</td>\n",
       "      <td>0.42</td>\n",
       "      <td>745069</td>\n",
       "      <td>3</td>\n",
       "    </tr>\n",
       "  </tbody>\n",
       "</table>\n",
       "</div>"
      ],
      "text/plain": [
       "      id     region  latitude  longitude accommodation_type  cost  \\\n",
       "0  13232  Manhattan  40.71854  -74.00439    Entire home/apt   170   \n",
       "1    246   Brooklyn  40.64446  -73.95030    Entire home/apt    65   \n",
       "2  19091     Queens  40.78573  -73.81062       Private room    85   \n",
       "3  34305  Manhattan  40.73863  -73.98002       Private room   210   \n",
       "4    444  Manhattan  40.82426  -73.94630        Shared room    75   \n",
       "\n",
       "   minimum_nights  number_of_reviews  reviews_per_month   owner_id  \\\n",
       "0               5                  7               0.56     929983   \n",
       "1               3                238               2.30     281764   \n",
       "2               1                  0                NaN   19923341   \n",
       "3              30                  0                NaN  200380610   \n",
       "4               3                 38               0.42     745069   \n",
       "\n",
       "   owned_hotels  \n",
       "0             1  \n",
       "1             1  \n",
       "2             1  \n",
       "3            65  \n",
       "4             3  "
      ]
     },
     "execution_count": 34,
     "metadata": {},
     "output_type": "execute_result"
    }
   ],
   "source": [
    "data.head()"
   ]
  },
  {
   "cell_type": "code",
   "execution_count": 35,
   "metadata": {
    "colab": {},
    "colab_type": "code",
    "id": "0mhMZRlBIKRu",
    "outputId": "0a669059-5528-4ec0-d64b-8231f6aadf45"
   },
   "outputs": [
    {
     "data": {
      "text/plain": [
       "Index(['id', 'region', 'latitude', 'longitude', 'accommodation_type', 'cost',\n",
       "       'minimum_nights', 'number_of_reviews', 'reviews_per_month', 'owner_id',\n",
       "       'owned_hotels'],\n",
       "      dtype='object')"
      ]
     },
     "execution_count": 35,
     "metadata": {},
     "output_type": "execute_result"
    }
   ],
   "source": [
    "#Explore columns\n",
    "data.columns"
   ]
  },
  {
   "cell_type": "code",
   "execution_count": 36,
   "metadata": {
    "colab": {},
    "colab_type": "code",
    "id": "-SrTmyfJIKR1",
    "outputId": "12b270ca-8c3f-402b-d6c1-286c17e63fdd"
   },
   "outputs": [
    {
     "data": {
      "text/html": [
       "<div>\n",
       "<style scoped>\n",
       "    .dataframe tbody tr th:only-of-type {\n",
       "        vertical-align: middle;\n",
       "    }\n",
       "\n",
       "    .dataframe tbody tr th {\n",
       "        vertical-align: top;\n",
       "    }\n",
       "\n",
       "    .dataframe thead th {\n",
       "        text-align: right;\n",
       "    }\n",
       "</style>\n",
       "<table border=\"1\" class=\"dataframe\">\n",
       "  <thead>\n",
       "    <tr style=\"text-align: right;\">\n",
       "      <th></th>\n",
       "      <th>id</th>\n",
       "      <th>latitude</th>\n",
       "      <th>longitude</th>\n",
       "      <th>cost</th>\n",
       "      <th>minimum_nights</th>\n",
       "      <th>number_of_reviews</th>\n",
       "      <th>reviews_per_month</th>\n",
       "      <th>owner_id</th>\n",
       "      <th>owned_hotels</th>\n",
       "    </tr>\n",
       "  </thead>\n",
       "  <tbody>\n",
       "    <tr>\n",
       "      <th>count</th>\n",
       "      <td>2870.000000</td>\n",
       "      <td>2870.000000</td>\n",
       "      <td>2870.000000</td>\n",
       "      <td>2870.000000</td>\n",
       "      <td>2870.000000</td>\n",
       "      <td>2870.000000</td>\n",
       "      <td>2194.000000</td>\n",
       "      <td>2.870000e+03</td>\n",
       "      <td>2870.000000</td>\n",
       "    </tr>\n",
       "    <tr>\n",
       "      <th>mean</th>\n",
       "      <td>26760.657143</td>\n",
       "      <td>40.731224</td>\n",
       "      <td>-73.950158</td>\n",
       "      <td>195.943206</td>\n",
       "      <td>11.530314</td>\n",
       "      <td>16.315331</td>\n",
       "      <td>1.157502</td>\n",
       "      <td>7.202195e+07</td>\n",
       "      <td>8.411498</td>\n",
       "    </tr>\n",
       "    <tr>\n",
       "      <th>std</th>\n",
       "      <td>14140.930062</td>\n",
       "      <td>0.054942</td>\n",
       "      <td>0.049745</td>\n",
       "      <td>406.184714</td>\n",
       "      <td>37.972339</td>\n",
       "      <td>32.481722</td>\n",
       "      <td>1.355028</td>\n",
       "      <td>8.076516e+07</td>\n",
       "      <td>27.105522</td>\n",
       "    </tr>\n",
       "    <tr>\n",
       "      <th>min</th>\n",
       "      <td>0.000000</td>\n",
       "      <td>40.507080</td>\n",
       "      <td>-74.242850</td>\n",
       "      <td>10.000000</td>\n",
       "      <td>1.000000</td>\n",
       "      <td>0.000000</td>\n",
       "      <td>0.010000</td>\n",
       "      <td>2.787000e+03</td>\n",
       "      <td>1.000000</td>\n",
       "    </tr>\n",
       "    <tr>\n",
       "      <th>25%</th>\n",
       "      <td>15931.750000</td>\n",
       "      <td>40.692462</td>\n",
       "      <td>-73.984003</td>\n",
       "      <td>75.000000</td>\n",
       "      <td>1.000000</td>\n",
       "      <td>1.000000</td>\n",
       "      <td>0.240000</td>\n",
       "      <td>7.388002e+06</td>\n",
       "      <td>1.000000</td>\n",
       "    </tr>\n",
       "    <tr>\n",
       "      <th>50%</th>\n",
       "      <td>28946.500000</td>\n",
       "      <td>40.728250</td>\n",
       "      <td>-73.956720</td>\n",
       "      <td>120.000000</td>\n",
       "      <td>3.000000</td>\n",
       "      <td>4.000000</td>\n",
       "      <td>0.650000</td>\n",
       "      <td>3.352708e+07</td>\n",
       "      <td>1.000000</td>\n",
       "    </tr>\n",
       "    <tr>\n",
       "      <th>75%</th>\n",
       "      <td>38478.500000</td>\n",
       "      <td>40.762658</td>\n",
       "      <td>-73.934202</td>\n",
       "      <td>200.000000</td>\n",
       "      <td>6.000000</td>\n",
       "      <td>16.000000</td>\n",
       "      <td>1.530000</td>\n",
       "      <td>1.207625e+08</td>\n",
       "      <td>3.000000</td>\n",
       "    </tr>\n",
       "    <tr>\n",
       "      <th>max</th>\n",
       "      <td>48893.000000</td>\n",
       "      <td>40.898730</td>\n",
       "      <td>-73.721730</td>\n",
       "      <td>9999.000000</td>\n",
       "      <td>999.000000</td>\n",
       "      <td>395.000000</td>\n",
       "      <td>10.370000</td>\n",
       "      <td>2.738123e+08</td>\n",
       "      <td>327.000000</td>\n",
       "    </tr>\n",
       "  </tbody>\n",
       "</table>\n",
       "</div>"
      ],
      "text/plain": [
       "                 id     latitude    longitude         cost  minimum_nights  \\\n",
       "count   2870.000000  2870.000000  2870.000000  2870.000000     2870.000000   \n",
       "mean   26760.657143    40.731224   -73.950158   195.943206       11.530314   \n",
       "std    14140.930062     0.054942     0.049745   406.184714       37.972339   \n",
       "min        0.000000    40.507080   -74.242850    10.000000        1.000000   \n",
       "25%    15931.750000    40.692462   -73.984003    75.000000        1.000000   \n",
       "50%    28946.500000    40.728250   -73.956720   120.000000        3.000000   \n",
       "75%    38478.500000    40.762658   -73.934202   200.000000        6.000000   \n",
       "max    48893.000000    40.898730   -73.721730  9999.000000      999.000000   \n",
       "\n",
       "       number_of_reviews  reviews_per_month      owner_id  owned_hotels  \n",
       "count        2870.000000        2194.000000  2.870000e+03   2870.000000  \n",
       "mean           16.315331           1.157502  7.202195e+07      8.411498  \n",
       "std            32.481722           1.355028  8.076516e+07     27.105522  \n",
       "min             0.000000           0.010000  2.787000e+03      1.000000  \n",
       "25%             1.000000           0.240000  7.388002e+06      1.000000  \n",
       "50%             4.000000           0.650000  3.352708e+07      1.000000  \n",
       "75%            16.000000           1.530000  1.207625e+08      3.000000  \n",
       "max           395.000000          10.370000  2.738123e+08    327.000000  "
      ]
     },
     "execution_count": 36,
     "metadata": {},
     "output_type": "execute_result"
    }
   ],
   "source": [
    "#Description\n",
    "data.describe()"
   ]
  },
  {
   "cell_type": "code",
   "execution_count": 37,
   "metadata": {},
   "outputs": [
    {
     "data": {
      "text/plain": [
       "Manhattan        1333\n",
       "Brooklyn         1075\n",
       "Queens            370\n",
       "Bronx              78\n",
       "Staten Island      14\n",
       "Name: region, dtype: int64"
      ]
     },
     "execution_count": 37,
     "metadata": {},
     "output_type": "execute_result"
    }
   ],
   "source": [
    "data['region'].value_counts()"
   ]
  },
  {
   "cell_type": "code",
   "execution_count": 38,
   "metadata": {},
   "outputs": [
    {
     "data": {
      "text/plain": [
       "Private room       1225\n",
       "Entire home/apt    1002\n",
       "Shared room         643\n",
       "Name: accommodation_type, dtype: int64"
      ]
     },
     "execution_count": 38,
     "metadata": {},
     "output_type": "execute_result"
    }
   ],
   "source": [
    "data['accommodation_type'].value_counts()"
   ]
  },
  {
   "cell_type": "markdown",
   "metadata": {
    "colab": {},
    "colab_type": "code",
    "id": "Vel-7S7gIKR9"
   },
   "source": [
    "### Handling Categorical Values"
   ]
  },
  {
   "cell_type": "markdown",
   "metadata": {
    "colab": {},
    "colab_type": "code",
    "id": "fp1nvdh-IKSE"
   },
   "source": [
    "- As we can see, we have two categorical columns. Before we input this data to any model, we need to handle these categorical features. There are lots of methods to do this task. I will use One Hot encoding for this since these are nomial classes i.e there is no order or relationship between these classes."
   ]
  },
  {
   "cell_type": "code",
   "execution_count": 39,
   "metadata": {
    "colab": {},
    "colab_type": "code",
    "id": "px5KNTQ7IKSK"
   },
   "outputs": [],
   "source": [
    "data = pd.get_dummies(data)\n",
    "test_data = pd.get_dummies(test_data)"
   ]
  },
  {
   "cell_type": "code",
   "execution_count": 40,
   "metadata": {
    "colab": {},
    "colab_type": "code",
    "id": "W9B6xKGpIKSQ"
   },
   "outputs": [
    {
     "data": {
      "text/html": [
       "<div>\n",
       "<style scoped>\n",
       "    .dataframe tbody tr th:only-of-type {\n",
       "        vertical-align: middle;\n",
       "    }\n",
       "\n",
       "    .dataframe tbody tr th {\n",
       "        vertical-align: top;\n",
       "    }\n",
       "\n",
       "    .dataframe thead th {\n",
       "        text-align: right;\n",
       "    }\n",
       "</style>\n",
       "<table border=\"1\" class=\"dataframe\">\n",
       "  <thead>\n",
       "    <tr style=\"text-align: right;\">\n",
       "      <th></th>\n",
       "      <th>id</th>\n",
       "      <th>latitude</th>\n",
       "      <th>longitude</th>\n",
       "      <th>cost</th>\n",
       "      <th>minimum_nights</th>\n",
       "      <th>number_of_reviews</th>\n",
       "      <th>reviews_per_month</th>\n",
       "      <th>owner_id</th>\n",
       "      <th>owned_hotels</th>\n",
       "      <th>region_Bronx</th>\n",
       "      <th>region_Brooklyn</th>\n",
       "      <th>region_Manhattan</th>\n",
       "      <th>region_Queens</th>\n",
       "      <th>region_Staten Island</th>\n",
       "      <th>accommodation_type_Entire home/apt</th>\n",
       "      <th>accommodation_type_Private room</th>\n",
       "      <th>accommodation_type_Shared room</th>\n",
       "    </tr>\n",
       "  </thead>\n",
       "  <tbody>\n",
       "    <tr>\n",
       "      <th>0</th>\n",
       "      <td>13232</td>\n",
       "      <td>40.71854</td>\n",
       "      <td>-74.00439</td>\n",
       "      <td>170</td>\n",
       "      <td>5</td>\n",
       "      <td>7</td>\n",
       "      <td>0.56</td>\n",
       "      <td>929983</td>\n",
       "      <td>1</td>\n",
       "      <td>0</td>\n",
       "      <td>0</td>\n",
       "      <td>1</td>\n",
       "      <td>0</td>\n",
       "      <td>0</td>\n",
       "      <td>1</td>\n",
       "      <td>0</td>\n",
       "      <td>0</td>\n",
       "    </tr>\n",
       "    <tr>\n",
       "      <th>1</th>\n",
       "      <td>246</td>\n",
       "      <td>40.64446</td>\n",
       "      <td>-73.95030</td>\n",
       "      <td>65</td>\n",
       "      <td>3</td>\n",
       "      <td>238</td>\n",
       "      <td>2.30</td>\n",
       "      <td>281764</td>\n",
       "      <td>1</td>\n",
       "      <td>0</td>\n",
       "      <td>1</td>\n",
       "      <td>0</td>\n",
       "      <td>0</td>\n",
       "      <td>0</td>\n",
       "      <td>1</td>\n",
       "      <td>0</td>\n",
       "      <td>0</td>\n",
       "    </tr>\n",
       "    <tr>\n",
       "      <th>2</th>\n",
       "      <td>19091</td>\n",
       "      <td>40.78573</td>\n",
       "      <td>-73.81062</td>\n",
       "      <td>85</td>\n",
       "      <td>1</td>\n",
       "      <td>0</td>\n",
       "      <td>NaN</td>\n",
       "      <td>19923341</td>\n",
       "      <td>1</td>\n",
       "      <td>0</td>\n",
       "      <td>0</td>\n",
       "      <td>0</td>\n",
       "      <td>1</td>\n",
       "      <td>0</td>\n",
       "      <td>0</td>\n",
       "      <td>1</td>\n",
       "      <td>0</td>\n",
       "    </tr>\n",
       "    <tr>\n",
       "      <th>3</th>\n",
       "      <td>34305</td>\n",
       "      <td>40.73863</td>\n",
       "      <td>-73.98002</td>\n",
       "      <td>210</td>\n",
       "      <td>30</td>\n",
       "      <td>0</td>\n",
       "      <td>NaN</td>\n",
       "      <td>200380610</td>\n",
       "      <td>65</td>\n",
       "      <td>0</td>\n",
       "      <td>0</td>\n",
       "      <td>1</td>\n",
       "      <td>0</td>\n",
       "      <td>0</td>\n",
       "      <td>0</td>\n",
       "      <td>1</td>\n",
       "      <td>0</td>\n",
       "    </tr>\n",
       "    <tr>\n",
       "      <th>4</th>\n",
       "      <td>444</td>\n",
       "      <td>40.82426</td>\n",
       "      <td>-73.94630</td>\n",
       "      <td>75</td>\n",
       "      <td>3</td>\n",
       "      <td>38</td>\n",
       "      <td>0.42</td>\n",
       "      <td>745069</td>\n",
       "      <td>3</td>\n",
       "      <td>0</td>\n",
       "      <td>0</td>\n",
       "      <td>1</td>\n",
       "      <td>0</td>\n",
       "      <td>0</td>\n",
       "      <td>0</td>\n",
       "      <td>0</td>\n",
       "      <td>1</td>\n",
       "    </tr>\n",
       "  </tbody>\n",
       "</table>\n",
       "</div>"
      ],
      "text/plain": [
       "      id  latitude  longitude  cost  minimum_nights  number_of_reviews  \\\n",
       "0  13232  40.71854  -74.00439   170               5                  7   \n",
       "1    246  40.64446  -73.95030    65               3                238   \n",
       "2  19091  40.78573  -73.81062    85               1                  0   \n",
       "3  34305  40.73863  -73.98002   210              30                  0   \n",
       "4    444  40.82426  -73.94630    75               3                 38   \n",
       "\n",
       "   reviews_per_month   owner_id  owned_hotels  region_Bronx  region_Brooklyn  \\\n",
       "0               0.56     929983             1             0                0   \n",
       "1               2.30     281764             1             0                1   \n",
       "2                NaN   19923341             1             0                0   \n",
       "3                NaN  200380610            65             0                0   \n",
       "4               0.42     745069             3             0                0   \n",
       "\n",
       "   region_Manhattan  region_Queens  region_Staten Island  \\\n",
       "0                 1              0                     0   \n",
       "1                 0              0                     0   \n",
       "2                 0              1                     0   \n",
       "3                 1              0                     0   \n",
       "4                 1              0                     0   \n",
       "\n",
       "   accommodation_type_Entire home/apt  accommodation_type_Private room  \\\n",
       "0                                   1                                0   \n",
       "1                                   1                                0   \n",
       "2                                   0                                1   \n",
       "3                                   0                                1   \n",
       "4                                   0                                0   \n",
       "\n",
       "   accommodation_type_Shared room  \n",
       "0                               0  \n",
       "1                               0  \n",
       "2                               0  \n",
       "3                               0  \n",
       "4                               1  "
      ]
     },
     "execution_count": 40,
     "metadata": {},
     "output_type": "execute_result"
    }
   ],
   "source": [
    "data.head()"
   ]
  },
  {
   "cell_type": "markdown",
   "metadata": {},
   "source": [
    "- Now we can see that our data is starting to look a bit clean. But in this sample, we can see some NaN values. Let's handle those now."
   ]
  },
  {
   "cell_type": "code",
   "execution_count": 41,
   "metadata": {},
   "outputs": [
    {
     "data": {
      "text/plain": [
       "id                                      0\n",
       "latitude                                0\n",
       "longitude                               0\n",
       "cost                                    0\n",
       "minimum_nights                          0\n",
       "number_of_reviews                       0\n",
       "reviews_per_month                     676\n",
       "owner_id                                0\n",
       "owned_hotels                            0\n",
       "region_Bronx                            0\n",
       "region_Brooklyn                         0\n",
       "region_Manhattan                        0\n",
       "region_Queens                           0\n",
       "region_Staten Island                    0\n",
       "accommodation_type_Entire home/apt      0\n",
       "accommodation_type_Private room         0\n",
       "accommodation_type_Shared room          0\n",
       "dtype: int64"
      ]
     },
     "execution_count": 41,
     "metadata": {},
     "output_type": "execute_result"
    }
   ],
   "source": [
    "data.isna().sum()"
   ]
  },
  {
   "cell_type": "code",
   "execution_count": 42,
   "metadata": {},
   "outputs": [
    {
     "data": {
      "text/plain": [
       "id                                      0\n",
       "latitude                                0\n",
       "longitude                               0\n",
       "cost                                    0\n",
       "minimum_nights                          0\n",
       "number_of_reviews                       0\n",
       "reviews_per_month                     173\n",
       "owner_id                                0\n",
       "owned_hotels                            0\n",
       "region_Bronx                            0\n",
       "region_Brooklyn                         0\n",
       "region_Manhattan                        0\n",
       "region_Queens                           0\n",
       "region_Staten Island                    0\n",
       "accommodation_type_Entire home/apt      0\n",
       "accommodation_type_Private room         0\n",
       "accommodation_type_Shared room          0\n",
       "dtype: int64"
      ]
     },
     "execution_count": 42,
     "metadata": {},
     "output_type": "execute_result"
    }
   ],
   "source": [
    "test_data.isna().sum()"
   ]
  },
  {
   "cell_type": "markdown",
   "metadata": {},
   "source": [
    "### Handling Null Values"
   ]
  },
  {
   "cell_type": "markdown",
   "metadata": {},
   "source": [
    "- Again, there are lots of methods which can achieve this task. Some are listed below:\n",
    "    - Removing the missing values: This works best when the missing value counts are so low that it won't affect the model training.\n",
    "    - Replacing the missing values by zero: This option is viable when handling numerical features of less importance.\n",
    "    - Replacing the missing values by Mean, Median etc.: This choice is the next best one since it is consistent with the Normal curve.\n",
    "    - Missing value imputation: This employs algorithms which can estimate the missing values based on the relationships between other features. \n",
    "- From the above choices, I am going ahead with the last one: Missing Value Imputation. There are numerous methods to achieve this. I am using IterativeImputer."
   ]
  },
  {
   "cell_type": "code",
   "execution_count": 43,
   "metadata": {},
   "outputs": [],
   "source": [
    "from sklearn.experimental import enable_iterative_imputer\n",
    "from sklearn.impute import IterativeImputer\n",
    "impute = IterativeImputer()\n",
    "data[:] = impute.fit_transform(data)\n",
    "test_data[:] = impute.fit_transform(test_data)"
   ]
  },
  {
   "cell_type": "code",
   "execution_count": 44,
   "metadata": {},
   "outputs": [
    {
     "data": {
      "text/plain": [
       "id                                    0\n",
       "latitude                              0\n",
       "longitude                             0\n",
       "cost                                  0\n",
       "minimum_nights                        0\n",
       "number_of_reviews                     0\n",
       "reviews_per_month                     0\n",
       "owner_id                              0\n",
       "owned_hotels                          0\n",
       "region_Bronx                          0\n",
       "region_Brooklyn                       0\n",
       "region_Manhattan                      0\n",
       "region_Queens                         0\n",
       "region_Staten Island                  0\n",
       "accommodation_type_Entire home/apt    0\n",
       "accommodation_type_Private room       0\n",
       "accommodation_type_Shared room        0\n",
       "dtype: int64"
      ]
     },
     "execution_count": 44,
     "metadata": {},
     "output_type": "execute_result"
    }
   ],
   "source": [
    "data.isna().sum()"
   ]
  },
  {
   "cell_type": "markdown",
   "metadata": {
    "colab_type": "text",
    "id": "ymsdDaIPIKSX"
   },
   "source": [
    "## Visualization, Modeling, Machine Learning\n",
    "\n",
    "Build a model that categorizes hotels on the basis of their yearly availability.  Identify how different features influence the decision. Please explain the findings effectively to technical and non-technical audiences using comments and visualizations, if appropriate.\n",
    "- **Build an optimized model that effectively solves the business problem.**\n",
    "- **The model will be evaluated on the basis of Accuracy.**\n",
    "- **Read the test.csv file and prepare features for testing.**"
   ]
  },
  {
   "cell_type": "code",
   "execution_count": null,
   "metadata": {},
   "outputs": [],
   "source": []
  },
  {
   "cell_type": "code",
   "execution_count": 45,
   "metadata": {
    "colab": {},
    "colab_type": "code",
    "id": "73vBzp7lIKSf"
   },
   "outputs": [
    {
     "data": {
      "image/png": "[encoded data removed]",
      "text/plain": [
       "<Figure size 432x288 with 1 Axes>"
      ]
     },
     "metadata": {
      "needs_background": "light"
     },
     "output_type": "display_data"
    },
    {
     "data": {
      "image/png": "[encoded data removed]",
      "text/plain": [
       "<Figure size 432x288 with 1 Axes>"
      ]
     },
     "metadata": {
      "needs_background": "light"
     },
     "output_type": "display_data"
    },
    {
     "data": {
      "image/png": "[encoded data removed]",
      "text/plain": [
       "<Figure size 432x288 with 1 Axes>"
      ]
     },
     "metadata": {
      "needs_background": "light"
     },
     "output_type": "display_data"
    },
    {
     "data": {
      "image/png": "[encoded data removed]",
      "text/plain": [
       "<Figure size 432x288 with 1 Axes>"
      ]
     },
     "metadata": {
      "needs_background": "light"
     },
     "output_type": "display_data"
    }
   ],
   "source": [
    "import seaborn as sns\n",
    "import matplotlib.pyplot as plt\n",
    "num_features = ['cost','minimum_nights','number_of_reviews','reviews_per_month']\n",
    "for i in num_features:\n",
    "    fig = sns.histplot(data[i], kde=True)\n",
    "    plt.show()"
   ]
  },
  {
   "cell_type": "markdown",
   "metadata": {
    "colab": {},
    "colab_type": "code",
    "id": "1XiIoLYLIKSj"
   },
   "source": [
    "- Based on the histograms, we can see that the data is highly skewed. Therefore, we will need to apply some transformation to the data."
   ]
  },
  {
   "cell_type": "markdown",
   "metadata": {
    "colab": {},
    "colab_type": "code",
    "id": "7tBCHjd3IKSp"
   },
   "source": [
    "### Data Transformation"
   ]
  },
  {
   "cell_type": "markdown",
   "metadata": {
    "colab": {},
    "colab_type": "code",
    "id": "1Vk1EEy9IKSv"
   },
   "source": [
    "- To transform the data, I have gone with the box-cox method which I will implement as follows:"
   ]
  },
  {
   "cell_type": "code",
   "execution_count": 46,
   "metadata": {
    "colab": {},
    "colab_type": "code",
    "id": "nkQU41WSIKSz"
   },
   "outputs": [
    {
     "data": {
      "image/png": "[encoded data removed]",
      "text/plain": [
       "<Figure size 432x288 with 2 Axes>"
      ]
     },
     "metadata": {
      "needs_background": "light"
     },
     "output_type": "display_data"
    },
    {
     "data": {
      "image/png": "[encoded data removed]",
      "text/plain": [
       "<Figure size 432x288 with 2 Axes>"
      ]
     },
     "metadata": {
      "needs_background": "light"
     },
     "output_type": "display_data"
    },
    {
     "data": {
      "image/png": "[encoded data removed]",
      "text/plain": [
       "<Figure size 432x288 with 2 Axes>"
      ]
     },
     "metadata": {
      "needs_background": "light"
     },
     "output_type": "display_data"
    },
    {
     "data": {
      "image/png": "[encoded data removed]",
      "text/plain": [
       "<Figure size 432x288 with 2 Axes>"
      ]
     },
     "metadata": {
      "needs_background": "light"
     },
     "output_type": "display_data"
    }
   ],
   "source": [
    "from sklearn import preprocessing\n",
    "bc_t = preprocessing.PowerTransformer(method='yeo-johnson', standardize=False)\n",
    "tem = data.copy()   ## Let's first test on a copy of the data to see if the transformation gives us any good results\n",
    "for i in num_features:\n",
    "    #tem[i] = scalar.fit(data[i].values.reshape(-1,1)+1)\n",
    "    tem[i] = bc_t.fit_transform(data[i].to_numpy().reshape(-1,1)).reshape(-1,1)\n",
    "    fig,ax = plt.subplots(1,2)\n",
    "    sns.histplot(data=tem, x=i, kde=True, ax=ax[0]).set_title(f'Plot of {i}')\n",
    "    sns.histplot(data=tem, x=i, kde=True, hue=label, ax=ax[1]).set_title(f'Plot of {i} with yearly_availability')\n",
    "    plt.show()"
   ]
  },
  {
   "cell_type": "markdown",
   "metadata": {},
   "source": [
    "- The above data looks much better now. Let's make some more visualizations to get more insights."
   ]
  },
  {
   "cell_type": "code",
   "execution_count": 47,
   "metadata": {},
   "outputs": [],
   "source": [
    "tem.drop(columns=['id', 'owner_id', 'latitude', 'longitude'], inplace = True)\n",
    "X = tem.to_numpy()\n",
    "y = label.to_numpy()"
   ]
  },
  {
   "cell_type": "code",
   "execution_count": 48,
   "metadata": {},
   "outputs": [],
   "source": [
    "from sklearn.model_selection import train_test_split\n",
    "x_train,x_test, y_train, y_test = train_test_split(X,y, test_size = 0.3, random_state=0)"
   ]
  },
  {
   "cell_type": "markdown",
   "metadata": {},
   "source": [
    "- For my baseline model, I will first train a KNN model, with neighbors ranging from 1 to 40 and plot the elbow curve to get the best value of k. Then I will train a Random Forest classifier without hyperparameter tuning and finally a hyperparameter tuned Random Forest model. In the end, I will use Cross Validation to evaluate the models."
   ]
  },
  {
   "cell_type": "code",
   "execution_count": 30,
   "metadata": {},
   "outputs": [],
   "source": [
    "from sklearn.ensemble import RandomForestClassifier\n",
    "from sklearn.neighbors import KNeighborsClassifier\n",
    "from sklearn.metrics import accuracy_score"
   ]
  },
  {
   "cell_type": "code",
   "execution_count": 55,
   "metadata": {},
   "outputs": [
    {
     "data": {
      "text/plain": [
       "Text(0, 0.5, 'Error Rate')"
      ]
     },
     "execution_count": 55,
     "metadata": {},
     "output_type": "execute_result"
    },
    {
     "data": {
      "image/png": "[encoded data removed]",
      "text/plain": [
       "<Figure size 720x432 with 1 Axes>"
      ]
     },
     "metadata": {
      "needs_background": "light"
     },
     "output_type": "display_data"
    }
   ],
   "source": [
    "error_rate = []\n",
    "test_accuracy_score = []\n",
    "for k in range(1,):\n",
    "    knn = KNeighborsClassifier(n_neighbors=k)\n",
    "    knn.fit(x_train, y_train)\n",
    "    y_pred_i = knn.predict(x_test)\n",
    "    error_rate.append(np.mean(y_pred_i != y_test))\n",
    "    test_accuracy_score.append(accuracy_score(y_test,y_pred_i))\n",
    "    \n",
    "plt.figure(figsize=(10,6))\n",
    "plt.plot(range(1,40),error_rate,color='blue', linestyle='dashed', marker='o',\n",
    " markerfacecolor='red', markersize=10)\n",
    "plt.title('Error Rate vs. K Value')\n",
    "plt.xlabel('K')\n",
    "plt.ylabel('Error Rate')"
   ]
  },
  {
   "cell_type": "code",
   "execution_count": 56,
   "metadata": {},
   "outputs": [
    {
     "data": {
      "text/plain": [
       "5"
      ]
     },
     "execution_count": 56,
     "metadata": {},
     "output_type": "execute_result"
    }
   ],
   "source": [
    "test_accuracy_score.index(max(test_accuracy_score))"
   ]
  },
  {
   "cell_type": "code",
   "execution_count": 57,
   "metadata": {},
   "outputs": [
    {
     "data": {
      "text/plain": [
       "0.9233449477351916"
      ]
     },
     "execution_count": 57,
     "metadata": {},
     "output_type": "execute_result"
    }
   ],
   "source": [
    "max(test_accuracy_score)"
   ]
  },
  {
   "cell_type": "markdown",
   "metadata": {},
   "source": [
    "- Therefore, at K=6, we get the elbow i.e the error rate is the minimum and the accuracy is the maximum"
   ]
  },
  {
   "cell_type": "code",
   "execution_count": 61,
   "metadata": {},
   "outputs": [],
   "source": [
    "rf = RandomForestClassifier(criterion = 'gini')"
   ]
  },
  {
   "cell_type": "code",
   "execution_count": 73,
   "metadata": {},
   "outputs": [
    {
     "name": "stdout",
     "output_type": "stream",
     "text": [
      "Random Forest: Cross validation score is [0.90491118 0.92789969 0.92154812] and mean of CV is 0.9181196614828124\n"
     ]
    },
    {
     "name": "stderr",
     "output_type": "stream",
     "text": [
      "/opt/conda/lib/python3.7/site-packages/sklearn/ensemble/forest.py:245: FutureWarning: The default value of n_estimators will change from 10 in version 0.20 to 100 in 0.22.\n",
      "  \"10 in version 0.20 to 100 in 0.22.\", FutureWarning)\n",
      "/opt/conda/lib/python3.7/site-packages/sklearn/ensemble/forest.py:245: FutureWarning: The default value of n_estimators will change from 10 in version 0.20 to 100 in 0.22.\n",
      "  \"10 in version 0.20 to 100 in 0.22.\", FutureWarning)\n",
      "/opt/conda/lib/python3.7/site-packages/sklearn/ensemble/forest.py:245: FutureWarning: The default value of n_estimators will change from 10 in version 0.20 to 100 in 0.22.\n",
      "  \"10 in version 0.20 to 100 in 0.22.\", FutureWarning)\n"
     ]
    }
   ],
   "source": [
    "from sklearn.model_selection import cross_val_score\n",
    "rfccv = cross_val_score(rf, X, y, cv=3)\n",
    "print(f'Random Forest: Cross validation score is {rfccv} and mean of CV is {rfccv.mean()}')"
   ]
  },
  {
   "cell_type": "markdown",
   "metadata": {},
   "source": [
    "- Here, without any hyperparameter tuning with cross validation, the maximum accuracy that we are getting is 91.95% for Random Forest. Let's now tune some hyperparameters for Random Forest."
   ]
  },
  {
   "cell_type": "code",
   "execution_count": 65,
   "metadata": {},
   "outputs": [],
   "source": [
    "from sklearn.model_selection import RandomizedSearchCV\n",
    "param_rfc = {'n_estimators': [3, 8, 15, 20], 'max_depth': [5, 10, 15], 'min_samples_leaf': [20, 50]}"
   ]
  },
  {
   "cell_type": "code",
   "execution_count": 78,
   "metadata": {},
   "outputs": [
    {
     "name": "stderr",
     "output_type": "stream",
     "text": [
      "/opt/conda/lib/python3.7/site-packages/sklearn/model_selection/_split.py:1978: FutureWarning: The default value of cv will change from 3 to 5 in version 0.22. Specify it explicitly to silence this warning.\n",
      "  warnings.warn(CV_WARNING, FutureWarning)\n"
     ]
    },
    {
     "data": {
      "text/plain": [
       "{'n_estimators': 15, 'min_samples_leaf': 20, 'max_depth': 5}"
      ]
     },
     "execution_count": 78,
     "metadata": {},
     "output_type": "execute_result"
    }
   ],
   "source": [
    "# Random Forest hyper parameters\n",
    "clf_rf = RandomizedSearchCV(rf, param_rfc, random_state=1)\n",
    "find_rf = clf_rf.fit(X, y)\n",
    "find_rf.best_params_"
   ]
  },
  {
   "cell_type": "markdown",
   "metadata": {},
   "source": [
    "- Using these hyperparamters into the Random Forest Model with K fold cross validation."
   ]
  },
  {
   "cell_type": "code",
   "execution_count": 75,
   "metadata": {},
   "outputs": [],
   "source": [
    "from sklearn.model_selection import RepeatedKFold\n",
    "def model_eval(model, X, y, repeat, split = 5) -> list:\n",
    "    cv = RepeatedKFold(n_splits = split, n_repeats = repeat, random_state=1)\n",
    "    scores = cross_val_score(model, X, y, scoring='accuracy', cv=cv, n_jobs=-1)\n",
    "    return scores"
   ]
  },
  {
   "cell_type": "code",
   "execution_count": 79,
   "metadata": {},
   "outputs": [
    {
     "name": "stdout",
     "output_type": "stream",
     "text": [
      "0.9212543554006969 0.012387727410892802\n",
      "0.9226480836236932 0.011187870632754218\n",
      "0.9219512195121952 0.008727046408440974\n",
      "0.9234320557491289 0.00861400927411992\n",
      "0.9232752613240417 0.010019830039214151\n",
      "0.9222996515679444 0.010024110275179196\n",
      "0.92344449975112 0.00875491920992361\n",
      "0.9229965156794424 0.009756097560975613\n",
      "0.9228803716608596 0.010214072411577532\n",
      "0.9231010452961672 0.009849047016354034\n"
     ]
    }
   ],
   "source": [
    "iter = range(1,11)\n",
    "res = []\n",
    "for i in iter:\n",
    "    sc = modelEvaluate(find_rf.best_estimator_ , X, y, i)\n",
    "    res.append(sc)\n",
    "for i in range(len(res)):\n",
    "    print(np.mean(res[i]), np.std(res[i]))"
   ]
  },
  {
   "cell_type": "markdown",
   "metadata": {},
   "source": [
    "- Finally we will train a KNN with k=6 with cross validation and we will report the results."
   ]
  },
  {
   "cell_type": "code",
   "execution_count": 77,
   "metadata": {},
   "outputs": [
    {
     "name": "stdout",
     "output_type": "stream",
     "text": [
      "0.9167247386759583 0.007899501079271508\n",
      "0.9209059233449477 0.010602873905716346\n",
      "0.92137049941928 0.010155796626573378\n",
      "0.9209930313588851 0.0098593805001057\n",
      "0.9205574912891986 0.010359629789072138\n",
      "0.9205574912891986 0.010044275474146052\n",
      "0.9202090592334495 0.009764982088416434\n",
      "0.9204268292682926 0.009279252479677577\n",
      "0.9203252032520324 0.009615434162982217\n",
      "0.9204878048780489 0.009572437537907855\n"
     ]
    }
   ],
   "source": [
    "knn_best = KNeighborsClassifier(n_neighbors=6)\n",
    "res_knn = []\n",
    "for i in iter:\n",
    "    sc = modelEvaluate(knn_best, X, y, i)\n",
    "    res_knn.append(sc)\n",
    "for i in range(len(res_knn)):\n",
    "    print(np.mean(res_knn[i]), np.std(res_knn[i]))"
   ]
  },
  {
   "cell_type": "markdown",
   "metadata": {},
   "source": [
    "- Therefore, the best accuracy among the trained models is of Hyperparameter tuned Random Forest at approx. *92.34%* with std deviation of approx. *0.008* ."
   ]
  },
  {
   "cell_type": "markdown",
   "metadata": {
    "colab_type": "text",
    "id": "MK_rdXETIKS4"
   },
   "source": [
    "\n",
    "\n",
    "**Highlight the most important features of the model for management.**\n",
    "\n",
    "> #### Task:\n",
    "- **Visualize the top 20 features and their feature importance.**\n"
   ]
  },
  {
   "cell_type": "code",
   "execution_count": 83,
   "metadata": {
    "colab": {},
    "colab_type": "code",
    "id": "HHFM3XPMIKS6"
   },
   "outputs": [],
   "source": [
    "imp = pd.Series(find_rf.best_estimator_.feature_importances_, index=tem.columns)\n",
    "top = imp.sort_values(ascending = False)"
   ]
  },
  {
   "cell_type": "code",
   "execution_count": 84,
   "metadata": {
    "colab": {},
    "colab_type": "code",
    "id": "jabG4TJwIKS_"
   },
   "outputs": [
    {
     "data": {
      "image/png": "[encoded data removed]",
      "text/plain": [
       "<Figure size 432x288 with 1 Axes>"
      ]
     },
     "metadata": {
      "needs_background": "light"
     },
     "output_type": "display_data"
    }
   ],
   "source": [
    "top.plot.bar()\n",
    "plt.show()"
   ]
  },
  {
   "cell_type": "markdown",
   "metadata": {
    "colab_type": "text",
    "id": "UFogmgYZIKTE"
   },
   "source": [
    "> #### Task:\n",
    "- **Submit the predictions on the test dataset using your optimized model** <br/>\n",
    "    For each record in the test set (`test.csv`), predict the value of the `yearly_availability` variable. Submit a CSV file with a header row and one row per test entry.\n",
    "\n",
    "The file (`submissions.csv`) should have exactly 2 columns:\n",
    "   - **id**\n",
    "   - **yearly_availability**"
   ]
  },
  {
   "cell_type": "code",
   "execution_count": 85,
   "metadata": {
    "colab": {},
    "colab_type": "code",
    "id": "7xgNg25MIKTG"
   },
   "outputs": [],
   "source": [
    "ids = test_data['id']\n",
    "test_data.drop(columns=['id', 'owner_id', 'latitude', 'longitude'], inplace = True)"
   ]
  },
  {
   "cell_type": "code",
   "execution_count": 86,
   "metadata": {
    "colab": {},
    "colab_type": "code",
    "id": "OaxN7BjwIKTL"
   },
   "outputs": [
    {
     "data": {
      "text/html": [
       "<div>\n",
       "<style scoped>\n",
       "    .dataframe tbody tr th:only-of-type {\n",
       "        vertical-align: middle;\n",
       "    }\n",
       "\n",
       "    .dataframe tbody tr th {\n",
       "        vertical-align: top;\n",
       "    }\n",
       "\n",
       "    .dataframe thead th {\n",
       "        text-align: right;\n",
       "    }\n",
       "</style>\n",
       "<table border=\"1\" class=\"dataframe\">\n",
       "  <thead>\n",
       "    <tr style=\"text-align: right;\">\n",
       "      <th></th>\n",
       "      <th>id</th>\n",
       "      <th>yearly_availability</th>\n",
       "    </tr>\n",
       "  </thead>\n",
       "  <tbody>\n",
       "    <tr>\n",
       "      <th>0</th>\n",
       "      <td>19215</td>\n",
       "      <td>1</td>\n",
       "    </tr>\n",
       "    <tr>\n",
       "      <th>1</th>\n",
       "      <td>36301</td>\n",
       "      <td>0</td>\n",
       "    </tr>\n",
       "    <tr>\n",
       "      <th>2</th>\n",
       "      <td>40566</td>\n",
       "      <td>1</td>\n",
       "    </tr>\n",
       "    <tr>\n",
       "      <th>3</th>\n",
       "      <td>33694</td>\n",
       "      <td>1</td>\n",
       "    </tr>\n",
       "    <tr>\n",
       "      <th>4</th>\n",
       "      <td>28873</td>\n",
       "      <td>0</td>\n",
       "    </tr>\n",
       "  </tbody>\n",
       "</table>\n",
       "</div>"
      ],
      "text/plain": [
       "      id  yearly_availability\n",
       "0  19215                    1\n",
       "1  36301                    0\n",
       "2  40566                    1\n",
       "3  33694                    1\n",
       "4  28873                    0"
      ]
     },
     "execution_count": 86,
     "metadata": {},
     "output_type": "execute_result"
    }
   ],
   "source": [
    "y_pred = find_rf.best_estimator_.predict(test_data.to_numpy())\n",
    "d = {'id': ids.astype(int), 'yearly_availability': y_pred}\n",
    "submission_df = pd.DataFrame(data = d)\n",
    "submission_df.head()"
   ]
  },
  {
   "cell_type": "code",
   "execution_count": 87,
   "metadata": {
    "colab": {},
    "colab_type": "code",
    "id": "nBRVPrYbIKTQ"
   },
   "outputs": [],
   "source": [
    "#Submission\n",
    "submission_df.to_csv('submissions.csv',index=False)"
   ]
  },
  {
   "cell_type": "markdown",
   "metadata": {
    "colab_type": "text",
    "id": "H_pB8zTcIKTW"
   },
   "source": [
    "---"
   ]
  }
 ],
 "metadata": {
  "colab": {
   "collapsed_sections": [],
   "name": "Questions.ipynb",
   "provenance": [],
   "version": "0.3.2"
  },
  "kernelspec": {
   "display_name": "Python 3",
   "language": "python",
   "name": "python3"
  },
  "language_info": {
   "codemirror_mode": {
    "name": "ipython",
    "version": 3
   },
   "file_extension": ".py",
   "mimetype": "text/x-python",
   "name": "python",
   "nbconvert_exporter": "python",
   "pygments_lexer": "ipython3",
   "version": "3.7.8"
  },
  "toc": {
   "base_numbering": 1,
   "nav_menu": {},
   "number_sections": true,
   "sideBar": true,
   "skip_h1_title": false,
   "title_cell": "Table of Contents",
   "title_sidebar": "Contents",
   "toc_cell": false,
   "toc_position": {},
   "toc_section_display": true,
   "toc_window_display": false
  }
 },
 "nbformat": 4,
 "nbformat_minor": 4
}
